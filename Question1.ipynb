{
  "nbformat": 4,
  "nbformat_minor": 0,
  "metadata": {
    "colab": {
      "provenance": [],
      "authorship_tag": "ABX9TyOvvaHx8AtZI6NVrCYCELig",
      "include_colab_link": true
    },
    "kernelspec": {
      "name": "python3",
      "display_name": "Python 3"
    },
    "language_info": {
      "name": "python"
    }
  },
  "cells": [
    {
      "cell_type": "markdown",
      "metadata": {
        "id": "view-in-github",
        "colab_type": "text"
      },
      "source": [
        "<a href=\"https://colab.research.google.com/github/6303757722/PDS_Assignment-3_4/blob/main/Question1.ipynb\" target=\"_parent\"><img src=\"https://colab.research.google.com/assets/colab-badge.svg\" alt=\"Open In Colab\"/></a>"
      ]
    },
    {
      "cell_type": "code",
      "execution_count": 1,
      "metadata": {
        "colab": {
          "base_uri": "https://localhost:8080/"
        },
        "id": "ymsOYQtVZd7K",
        "outputId": "0b2a898a-1b5f-4a8a-f51f-7f5550d14139"
      },
      "outputs": [
        {
          "output_type": "stream",
          "name": "stdout",
          "text": [
            "Requirement already satisfied: requests in /usr/local/lib/python3.10/dist-packages (2.31.0)\n",
            "Collecting dash\n",
            "  Downloading dash-2.16.1-py3-none-any.whl (10.2 MB)\n",
            "\u001b[2K     \u001b[90m━━━━━━━━━━━━━━━━━━━━━━━━━━━━━━━━━━━━━━━━\u001b[0m \u001b[32m10.2/10.2 MB\u001b[0m \u001b[31m16.0 MB/s\u001b[0m eta \u001b[36m0:00:00\u001b[0m\n",
            "\u001b[?25hRequirement already satisfied: charset-normalizer<4,>=2 in /usr/local/lib/python3.10/dist-packages (from requests) (3.3.2)\n",
            "Requirement already satisfied: idna<4,>=2.5 in /usr/local/lib/python3.10/dist-packages (from requests) (3.6)\n",
            "Requirement already satisfied: urllib3<3,>=1.21.1 in /usr/local/lib/python3.10/dist-packages (from requests) (2.0.7)\n",
            "Requirement already satisfied: certifi>=2017.4.17 in /usr/local/lib/python3.10/dist-packages (from requests) (2024.2.2)\n",
            "Requirement already satisfied: Flask<3.1,>=1.0.4 in /usr/local/lib/python3.10/dist-packages (from dash) (2.2.5)\n",
            "Requirement already satisfied: Werkzeug<3.1 in /usr/local/lib/python3.10/dist-packages (from dash) (3.0.2)\n",
            "Requirement already satisfied: plotly>=5.0.0 in /usr/local/lib/python3.10/dist-packages (from dash) (5.15.0)\n",
            "Collecting dash-html-components==2.0.0 (from dash)\n",
            "  Downloading dash_html_components-2.0.0-py3-none-any.whl (4.1 kB)\n",
            "Collecting dash-core-components==2.0.0 (from dash)\n",
            "  Downloading dash_core_components-2.0.0-py3-none-any.whl (3.8 kB)\n",
            "Collecting dash-table==5.0.0 (from dash)\n",
            "  Downloading dash_table-5.0.0-py3-none-any.whl (3.9 kB)\n",
            "Requirement already satisfied: importlib-metadata in /usr/local/lib/python3.10/dist-packages (from dash) (7.1.0)\n",
            "Requirement already satisfied: typing-extensions>=4.1.1 in /usr/local/lib/python3.10/dist-packages (from dash) (4.11.0)\n",
            "Collecting retrying (from dash)\n",
            "  Downloading retrying-1.3.4-py3-none-any.whl (11 kB)\n",
            "Requirement already satisfied: nest-asyncio in /usr/local/lib/python3.10/dist-packages (from dash) (1.6.0)\n",
            "Requirement already satisfied: setuptools in /usr/local/lib/python3.10/dist-packages (from dash) (67.7.2)\n",
            "Requirement already satisfied: Jinja2>=3.0 in /usr/local/lib/python3.10/dist-packages (from Flask<3.1,>=1.0.4->dash) (3.1.3)\n",
            "Requirement already satisfied: itsdangerous>=2.0 in /usr/local/lib/python3.10/dist-packages (from Flask<3.1,>=1.0.4->dash) (2.1.2)\n",
            "Requirement already satisfied: click>=8.0 in /usr/local/lib/python3.10/dist-packages (from Flask<3.1,>=1.0.4->dash) (8.1.7)\n",
            "Requirement already satisfied: tenacity>=6.2.0 in /usr/local/lib/python3.10/dist-packages (from plotly>=5.0.0->dash) (8.2.3)\n",
            "Requirement already satisfied: packaging in /usr/local/lib/python3.10/dist-packages (from plotly>=5.0.0->dash) (24.0)\n",
            "Requirement already satisfied: MarkupSafe>=2.1.1 in /usr/local/lib/python3.10/dist-packages (from Werkzeug<3.1->dash) (2.1.5)\n",
            "Requirement already satisfied: zipp>=0.5 in /usr/local/lib/python3.10/dist-packages (from importlib-metadata->dash) (3.18.1)\n",
            "Requirement already satisfied: six>=1.7.0 in /usr/local/lib/python3.10/dist-packages (from retrying->dash) (1.16.0)\n",
            "Installing collected packages: dash-table, dash-html-components, dash-core-components, retrying, dash\n",
            "Successfully installed dash-2.16.1 dash-core-components-2.0.0 dash-html-components-2.0.0 dash-table-5.0.0 retrying-1.3.4\n"
          ]
        }
      ],
      "source": [
        "pip install requests dash"
      ]
    },
    {
      "cell_type": "code",
      "source": [
        "import requests\n",
        "import dash\n",
        "import dash_core_components as dcc\n",
        "import dash_html_components as html\n",
        "from dash.dependencies import Input, Output\n",
        "\n",
        "# OpenWeatherMap API URL and API key\n",
        "API_KEY = \"d8c22e2c43443779cb7b93d4d0889adf\"\n",
        "API_URL = \"http://api.openweathermap.org/data/2.5/weather\"\n",
        "\n",
        "# Initialize Dash app\n",
        "app = dash.Dash(__name__)\n",
        "\n",
        "# Define layout of the dashboard\n",
        "app.layout = html.Div([\n",
        "    html.Div([\n",
        "        html.Div([\n",
        "            html.H1(\"Weather Dashboard\", style={'color': '#ffffff', 'text-align': 'center', 'font-size': '48px'}),\n",
        "            html.Div([\n",
        "                dcc.Input(id='input-location', type='text', placeholder='Enter city name', style={'width': '60%', 'font-size': '18px', 'padding': '10px'}),\n",
        "                html.Button('Submit', id='submit-button', n_clicks=0, style={'font-size': '18px', 'padding': '10px', 'background-color': '#4CAF50', 'color': '#ffffff', 'border': 'none'}),\n",
        "            ], style={'display': 'flex', 'justify-content': 'center', 'margin-top': '20px'}),\n",
        "            html.Div(id='output-container', style={'margin-top': '20px'}),\n",
        "        ], style={'background-image': 'url(\"https://images.unsplash.com/photo-1506748686214-e9df14d4d9d0\")', 'background-size': 'cover', 'background-position': 'center', 'padding': '20px', 'border-radius': '10px', 'box-shadow': '0 4px 8px 0 rgba(0,0,0,0.2)', 'position': 'relative'}),\n",
        "        html.Div([\n",
        "            html.P(\"Powered by OpenWeatherMap\", style={'color': '#ffffff', 'text-align': 'center', 'position': 'absolute', 'bottom': '10px', 'left': '50%', 'transform': 'translateX(-50%)'}),\n",
        "        ], style={'position': 'fixed', 'bottom': '0', 'width': '100%', 'background-color': 'rgba(0, 0, 0, 0.5)'}),\n",
        "    ], style={'height': '100vh', 'display': 'flex', 'justify-content': 'center', 'align-items': 'center'}),\n",
        "], style={'background-color': '#ffffff'})\n",
        "\n",
        "# Function to get weather icon URL\n",
        "def get_weather_icon_url(icon_code):\n",
        "    return f\"http://openweathermap.org/img/wn/{icon_code}.png\"\n",
        "\n",
        "# Callback function to fetch weather data and update the dashboard\n",
        "@app.callback(\n",
        "    Output('output-container', 'children'),\n",
        "    [Input('submit-button', 'n_clicks')],\n",
        "    [dash.dependencies.State('input-location', 'value')]\n",
        ")\n",
        "def update_output(n_clicks, input_value):\n",
        "    if n_clicks > 0:\n",
        "        try:\n",
        "            # Make API request to OpenWeatherMap\n",
        "            response = requests.get(API_URL, params={'q': input_value, 'appid': API_KEY, 'units': 'metric'})\n",
        "            data = response.json()\n",
        "\n",
        "            # Extract relevant weather information\n",
        "            city = data['name']\n",
        "            temp = data['main']['temp']\n",
        "            humidity = data['main']['humidity']\n",
        "            wind_speed = data['wind']['speed']\n",
        "            weather_desc = data['weather'][0]['description']\n",
        "            weather_icon = data['weather'][0]['icon']\n",
        "\n",
        "            # Get weather icon URL\n",
        "            icon_url = get_weather_icon_url(weather_icon)\n",
        "\n",
        "            # Display weather information with icon\n",
        "            return html.Div([\n",
        "                html.H3(f\"Weather in {city}\", style={'color': '#ffffff'}),\n",
        "                html.Img(src=icon_url, style={'width': '125px', 'height': '125px'}),\n",
        "                html.P(f\"Temperature: {temp}°C\", style={'color': '#ffffff'}),\n",
        "                html.P(f\"Humidity: {humidity}%\", style={'color': '#ffffff'}),\n",
        "                html.P(f\"Wind Speed: {wind_speed}m/s\", style={'color': '#ffffff'}),\n",
        "                html.P(f\"Weather: {weather_desc}\", style={'color': '#ffffff'})\n",
        "            ])\n",
        "        except Exception as e:\n",
        "            return html.Div(f\"Error: {e}\", style={'color': '#FF5733', 'font-weight': 'bold'})\n",
        "\n",
        "# Run the app\n",
        "if __name__ == '__main__':\n",
        "    app.run_server(debug=True)"
      ],
      "metadata": {
        "colab": {
          "base_uri": "https://localhost:8080/",
          "height": 671
        },
        "id": "Idl8i3EaZ3RY",
        "outputId": "d225cf6f-2ed4-48c2-b6b3-16557e244ea8"
      },
      "execution_count": 3,
      "outputs": [
        {
          "output_type": "display_data",
          "data": {
            "text/plain": [
              "<IPython.core.display.Javascript object>"
            ],
            "application/javascript": [
              "(async (port, path, width, height, cache, element) => {\n",
              "    if (!google.colab.kernel.accessAllowed && !cache) {\n",
              "      return;\n",
              "    }\n",
              "    element.appendChild(document.createTextNode(''));\n",
              "    const url = await google.colab.kernel.proxyPort(port, {cache});\n",
              "    const iframe = document.createElement('iframe');\n",
              "    iframe.src = new URL(path, url).toString();\n",
              "    iframe.height = height;\n",
              "    iframe.width = width;\n",
              "    iframe.style.border = 0;\n",
              "    iframe.allow = [\n",
              "        'accelerometer',\n",
              "        'autoplay',\n",
              "        'camera',\n",
              "        'clipboard-read',\n",
              "        'clipboard-write',\n",
              "        'gyroscope',\n",
              "        'magnetometer',\n",
              "        'microphone',\n",
              "        'serial',\n",
              "        'usb',\n",
              "        'xr-spatial-tracking',\n",
              "    ].join('; ');\n",
              "    element.appendChild(iframe);\n",
              "  })(8050, \"/\", \"100%\", 650, false, window.element)"
            ]
          },
          "metadata": {}
        }
      ]
    }
  ]
}